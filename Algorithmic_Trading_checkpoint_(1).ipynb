{
  "cells": [
    {
      "cell_type": "markdown",
      "metadata": {
        "id": "view-in-github",
        "colab_type": "text"
      },
      "source": [
        "<a href=\"https://colab.research.google.com/github/Apoorv-Krishn-DAS/-Apoorv-Krishn-DAS/blob/main/Algorithmic_Trading_checkpoint_(1).ipynb\" target=\"_parent\"><img src=\"https://colab.research.google.com/assets/colab-badge.svg\" alt=\"Open In Colab\"/></a>"
      ]
    },
    {
      "cell_type": "code",
      "execution_count": 5,
      "metadata": {
        "colab": {
          "base_uri": "https://localhost:8080/"
        },
        "id": "pBSGTj8YYQiy",
        "outputId": "ad2e4ebd-c2a5-4f89-cb84-2ca71c77b285"
      },
      "outputs": [
        {
          "output_type": "stream",
          "name": "stdout",
          "text": [
            "Populating the interactive namespace from numpy and matplotlib\n"
          ]
        }
      ],
      "source": [
        "# Initial Imports:\n",
        "import pandas as pd\n",
        "import numpy as np\n",
        "from pathlib import Path\n",
        "from datetime import datetime\n",
        "import warnings\n",
        "warnings.filterwarnings('ignore')\n",
        "\n",
        "# To run models:\n",
        "import statsmodels.api as sm\n",
        "from sklearn.ensemble import RandomForestClassifier\n",
        "from sklearn.datasets import make_classification\n",
        "from joblib import dump, load\n",
        "\n",
        "# For visualizations:\n",
        "import matplotlib.pyplot as plt\n",
        "import seaborn as sns\n",
        "%pylab inline\n",
        "%matplotlib inline"
      ]
    },
    {
      "cell_type": "markdown",
      "metadata": {
        "id": "0IFpFxIB450E"
      },
      "source": [
        "# Pre-Processing:  \n",
        "# 3-Factor Model"
      ]
    },
    {
      "cell_type": "code",
      "execution_count": 6,
      "metadata": {
        "id": "vwZ73nVDwK-G"
      },
      "outputs": [],
      "source": [
        "# Define function to read in factors from csv and return cleaned dataframe:\n",
        "def get_factors(factors):\n",
        "  factor_file=factors+\".csv\"\n",
        "  factor_df = pd.read_csv(factor_file)\n",
        "\n",
        "  # Clean factor dataframe:\n",
        "  factor_df = factor_df.rename(columns={\n",
        "    'Unnamed: 0': 'Date',\n",
        "  })\n",
        "\n",
        "  factor_df['Date'] = factor_df['Date'].apply(lambda x: pd.to_datetime(str(x), format='%Y%m%d'))\n",
        "\n",
        "  # Set \"Date\" as Index:\n",
        "  factor_df = factor_df.set_index('Date')\n",
        "\n",
        "  return factor_df"
      ]
    },
    {
      "cell_type": "code",
      "execution_count": 7,
      "metadata": {
        "colab": {
          "base_uri": "https://localhost:8080/",
          "height": 237
        },
        "id": "KZHl9zWxCuhq",
        "outputId": "8ada725e-889d-43a2-bc66-c8c76954774d"
      },
      "outputs": [
        {
          "output_type": "execute_result",
          "data": {
            "text/plain": [
              "            Mkt-RF   SMB   HML     RF\n",
              "Date                                 \n",
              "1926-07-01    0.10 -0.24 -0.28  0.009\n",
              "1926-07-02    0.45 -0.32 -0.08  0.009\n",
              "1926-07-06    0.17  0.27 -0.35  0.009\n",
              "1926-07-07    0.09 -0.59  0.03  0.009\n",
              "1926-07-08    0.21 -0.36  0.15  0.009"
            ],
            "text/html": [
              "\n",
              "\n",
              "  <div id=\"df-9abd7f54-355d-46fd-ae20-7e6409adef85\">\n",
              "    <div class=\"colab-df-container\">\n",
              "      <div>\n",
              "<style scoped>\n",
              "    .dataframe tbody tr th:only-of-type {\n",
              "        vertical-align: middle;\n",
              "    }\n",
              "\n",
              "    .dataframe tbody tr th {\n",
              "        vertical-align: top;\n",
              "    }\n",
              "\n",
              "    .dataframe thead th {\n",
              "        text-align: right;\n",
              "    }\n",
              "</style>\n",
              "<table border=\"1\" class=\"dataframe\">\n",
              "  <thead>\n",
              "    <tr style=\"text-align: right;\">\n",
              "      <th></th>\n",
              "      <th>Mkt-RF</th>\n",
              "      <th>SMB</th>\n",
              "      <th>HML</th>\n",
              "      <th>RF</th>\n",
              "    </tr>\n",
              "    <tr>\n",
              "      <th>Date</th>\n",
              "      <th></th>\n",
              "      <th></th>\n",
              "      <th></th>\n",
              "      <th></th>\n",
              "    </tr>\n",
              "  </thead>\n",
              "  <tbody>\n",
              "    <tr>\n",
              "      <th>1926-07-01</th>\n",
              "      <td>0.10</td>\n",
              "      <td>-0.24</td>\n",
              "      <td>-0.28</td>\n",
              "      <td>0.009</td>\n",
              "    </tr>\n",
              "    <tr>\n",
              "      <th>1926-07-02</th>\n",
              "      <td>0.45</td>\n",
              "      <td>-0.32</td>\n",
              "      <td>-0.08</td>\n",
              "      <td>0.009</td>\n",
              "    </tr>\n",
              "    <tr>\n",
              "      <th>1926-07-06</th>\n",
              "      <td>0.17</td>\n",
              "      <td>0.27</td>\n",
              "      <td>-0.35</td>\n",
              "      <td>0.009</td>\n",
              "    </tr>\n",
              "    <tr>\n",
              "      <th>1926-07-07</th>\n",
              "      <td>0.09</td>\n",
              "      <td>-0.59</td>\n",
              "      <td>0.03</td>\n",
              "      <td>0.009</td>\n",
              "    </tr>\n",
              "    <tr>\n",
              "      <th>1926-07-08</th>\n",
              "      <td>0.21</td>\n",
              "      <td>-0.36</td>\n",
              "      <td>0.15</td>\n",
              "      <td>0.009</td>\n",
              "    </tr>\n",
              "  </tbody>\n",
              "</table>\n",
              "</div>\n",
              "      <button class=\"colab-df-convert\" onclick=\"convertToInteractive('df-9abd7f54-355d-46fd-ae20-7e6409adef85')\"\n",
              "              title=\"Convert this dataframe to an interactive table.\"\n",
              "              style=\"display:none;\">\n",
              "\n",
              "  <svg xmlns=\"http://www.w3.org/2000/svg\" height=\"24px\"viewBox=\"0 0 24 24\"\n",
              "       width=\"24px\">\n",
              "    <path d=\"M0 0h24v24H0V0z\" fill=\"none\"/>\n",
              "    <path d=\"M18.56 5.44l.94 2.06.94-2.06 2.06-.94-2.06-.94-.94-2.06-.94 2.06-2.06.94zm-11 1L8.5 8.5l.94-2.06 2.06-.94-2.06-.94L8.5 2.5l-.94 2.06-2.06.94zm10 10l.94 2.06.94-2.06 2.06-.94-2.06-.94-.94-2.06-.94 2.06-2.06.94z\"/><path d=\"M17.41 7.96l-1.37-1.37c-.4-.4-.92-.59-1.43-.59-.52 0-1.04.2-1.43.59L10.3 9.45l-7.72 7.72c-.78.78-.78 2.05 0 2.83L4 21.41c.39.39.9.59 1.41.59.51 0 1.02-.2 1.41-.59l7.78-7.78 2.81-2.81c.8-.78.8-2.07 0-2.86zM5.41 20L4 18.59l7.72-7.72 1.47 1.35L5.41 20z\"/>\n",
              "  </svg>\n",
              "      </button>\n",
              "\n",
              "\n",
              "\n",
              "    <div id=\"df-efb336d1-c88c-41b9-9a1f-29f4f1b98d77\">\n",
              "      <button class=\"colab-df-quickchart\" onclick=\"quickchart('df-efb336d1-c88c-41b9-9a1f-29f4f1b98d77')\"\n",
              "              title=\"Suggest charts.\"\n",
              "              style=\"display:none;\">\n",
              "\n",
              "<svg xmlns=\"http://www.w3.org/2000/svg\" height=\"24px\"viewBox=\"0 0 24 24\"\n",
              "     width=\"24px\">\n",
              "    <g>\n",
              "        <path d=\"M19 3H5c-1.1 0-2 .9-2 2v14c0 1.1.9 2 2 2h14c1.1 0 2-.9 2-2V5c0-1.1-.9-2-2-2zM9 17H7v-7h2v7zm4 0h-2V7h2v10zm4 0h-2v-4h2v4z\"/>\n",
              "    </g>\n",
              "</svg>\n",
              "      </button>\n",
              "    </div>\n",
              "\n",
              "<style>\n",
              "  .colab-df-quickchart {\n",
              "    background-color: #E8F0FE;\n",
              "    border: none;\n",
              "    border-radius: 50%;\n",
              "    cursor: pointer;\n",
              "    display: none;\n",
              "    fill: #1967D2;\n",
              "    height: 32px;\n",
              "    padding: 0 0 0 0;\n",
              "    width: 32px;\n",
              "  }\n",
              "\n",
              "  .colab-df-quickchart:hover {\n",
              "    background-color: #E2EBFA;\n",
              "    box-shadow: 0px 1px 2px rgba(60, 64, 67, 0.3), 0px 1px 3px 1px rgba(60, 64, 67, 0.15);\n",
              "    fill: #174EA6;\n",
              "  }\n",
              "\n",
              "  [theme=dark] .colab-df-quickchart {\n",
              "    background-color: #3B4455;\n",
              "    fill: #D2E3FC;\n",
              "  }\n",
              "\n",
              "  [theme=dark] .colab-df-quickchart:hover {\n",
              "    background-color: #434B5C;\n",
              "    box-shadow: 0px 1px 3px 1px rgba(0, 0, 0, 0.15);\n",
              "    filter: drop-shadow(0px 1px 2px rgba(0, 0, 0, 0.3));\n",
              "    fill: #FFFFFF;\n",
              "  }\n",
              "</style>\n",
              "\n",
              "    <script>\n",
              "      async function quickchart(key) {\n",
              "        const containerElement = document.querySelector('#' + key);\n",
              "        const charts = await google.colab.kernel.invokeFunction(\n",
              "            'suggestCharts', [key], {});\n",
              "      }\n",
              "    </script>\n",
              "\n",
              "      <script>\n",
              "\n",
              "function displayQuickchartButton(domScope) {\n",
              "  let quickchartButtonEl =\n",
              "    domScope.querySelector('#df-efb336d1-c88c-41b9-9a1f-29f4f1b98d77 button.colab-df-quickchart');\n",
              "  quickchartButtonEl.style.display =\n",
              "    google.colab.kernel.accessAllowed ? 'block' : 'none';\n",
              "}\n",
              "\n",
              "        displayQuickchartButton(document);\n",
              "      </script>\n",
              "      <style>\n",
              "    .colab-df-container {\n",
              "      display:flex;\n",
              "      flex-wrap:wrap;\n",
              "      gap: 12px;\n",
              "    }\n",
              "\n",
              "    .colab-df-convert {\n",
              "      background-color: #E8F0FE;\n",
              "      border: none;\n",
              "      border-radius: 50%;\n",
              "      cursor: pointer;\n",
              "      display: none;\n",
              "      fill: #1967D2;\n",
              "      height: 32px;\n",
              "      padding: 0 0 0 0;\n",
              "      width: 32px;\n",
              "    }\n",
              "\n",
              "    .colab-df-convert:hover {\n",
              "      background-color: #E2EBFA;\n",
              "      box-shadow: 0px 1px 2px rgba(60, 64, 67, 0.3), 0px 1px 3px 1px rgba(60, 64, 67, 0.15);\n",
              "      fill: #174EA6;\n",
              "    }\n",
              "\n",
              "    [theme=dark] .colab-df-convert {\n",
              "      background-color: #3B4455;\n",
              "      fill: #D2E3FC;\n",
              "    }\n",
              "\n",
              "    [theme=dark] .colab-df-convert:hover {\n",
              "      background-color: #434B5C;\n",
              "      box-shadow: 0px 1px 3px 1px rgba(0, 0, 0, 0.15);\n",
              "      filter: drop-shadow(0px 1px 2px rgba(0, 0, 0, 0.3));\n",
              "      fill: #FFFFFF;\n",
              "    }\n",
              "  </style>\n",
              "\n",
              "      <script>\n",
              "        const buttonEl =\n",
              "          document.querySelector('#df-9abd7f54-355d-46fd-ae20-7e6409adef85 button.colab-df-convert');\n",
              "        buttonEl.style.display =\n",
              "          google.colab.kernel.accessAllowed ? 'block' : 'none';\n",
              "\n",
              "        async function convertToInteractive(key) {\n",
              "          const element = document.querySelector('#df-9abd7f54-355d-46fd-ae20-7e6409adef85');\n",
              "          const dataTable =\n",
              "            await google.colab.kernel.invokeFunction('convertToInteractive',\n",
              "                                                     [key], {});\n",
              "          if (!dataTable) return;\n",
              "\n",
              "          const docLinkHtml = 'Like what you see? Visit the ' +\n",
              "            '<a target=\"_blank\" href=https://colab.research.google.com/notebooks/data_table.ipynb>data table notebook</a>'\n",
              "            + ' to learn more about interactive tables.';\n",
              "          element.innerHTML = '';\n",
              "          dataTable['output_type'] = 'display_data';\n",
              "          await google.colab.output.renderOutput(dataTable, element);\n",
              "          const docLink = document.createElement('div');\n",
              "          docLink.innerHTML = docLinkHtml;\n",
              "          element.appendChild(docLink);\n",
              "        }\n",
              "      </script>\n",
              "    </div>\n",
              "  </div>\n"
            ]
          },
          "metadata": {},
          "execution_count": 7
        }
      ],
      "source": [
        "# Confirm Fama-French dataframe:\n",
        "factors = get_factors(\"french_fama\")\n",
        "factors.head()"
      ]
    },
    {
      "cell_type": "code",
      "execution_count": 8,
      "metadata": {
        "id": "fXyjrOyVFu37"
      },
      "outputs": [],
      "source": [
        "# Do same thing as above, but for the individual stock CSV:\n",
        "def choose_stock(ticker):\n",
        "  ticker_file=ticker+\".csv\"\n",
        "  stock=pd.read_csv(ticker_file, index_col='Date', parse_dates=True, infer_datetime_format=True)\n",
        "  stock[\"Returns\"]=stock[\"Close\"].dropna().pct_change()*100\n",
        "  stock.index = pd.Series(stock.index).dt.date\n",
        "\n",
        "  return stock"
      ]
    },
    {
      "cell_type": "code",
      "execution_count": 9,
      "metadata": {
        "colab": {
          "base_uri": "https://localhost:8080/",
          "height": 237
        },
        "id": "clUUSaxlTK6A",
        "outputId": "862b6c94-9128-45ce-d73e-c2e19ddb9e65"
      },
      "outputs": [
        {
          "output_type": "execute_result",
          "data": {
            "text/plain": [
              "            Close   Returns\n",
              "Date                       \n",
              "2000-01-03  47.00       NaN\n",
              "2000-01-04  44.25 -5.851064\n",
              "2000-01-05  44.94  1.559322\n",
              "2000-01-06  43.75 -2.647975\n",
              "2000-01-07  44.13  0.868571"
            ],
            "text/html": [
              "\n",
              "\n",
              "  <div id=\"df-b02db381-447a-44a1-9f4f-ce9425ea8916\">\n",
              "    <div class=\"colab-df-container\">\n",
              "      <div>\n",
              "<style scoped>\n",
              "    .dataframe tbody tr th:only-of-type {\n",
              "        vertical-align: middle;\n",
              "    }\n",
              "\n",
              "    .dataframe tbody tr th {\n",
              "        vertical-align: top;\n",
              "    }\n",
              "\n",
              "    .dataframe thead th {\n",
              "        text-align: right;\n",
              "    }\n",
              "</style>\n",
              "<table border=\"1\" class=\"dataframe\">\n",
              "  <thead>\n",
              "    <tr style=\"text-align: right;\">\n",
              "      <th></th>\n",
              "      <th>Close</th>\n",
              "      <th>Returns</th>\n",
              "    </tr>\n",
              "    <tr>\n",
              "      <th>Date</th>\n",
              "      <th></th>\n",
              "      <th></th>\n",
              "    </tr>\n",
              "  </thead>\n",
              "  <tbody>\n",
              "    <tr>\n",
              "      <th>2000-01-03</th>\n",
              "      <td>47.00</td>\n",
              "      <td>NaN</td>\n",
              "    </tr>\n",
              "    <tr>\n",
              "      <th>2000-01-04</th>\n",
              "      <td>44.25</td>\n",
              "      <td>-5.851064</td>\n",
              "    </tr>\n",
              "    <tr>\n",
              "      <th>2000-01-05</th>\n",
              "      <td>44.94</td>\n",
              "      <td>1.559322</td>\n",
              "    </tr>\n",
              "    <tr>\n",
              "      <th>2000-01-06</th>\n",
              "      <td>43.75</td>\n",
              "      <td>-2.647975</td>\n",
              "    </tr>\n",
              "    <tr>\n",
              "      <th>2000-01-07</th>\n",
              "      <td>44.13</td>\n",
              "      <td>0.868571</td>\n",
              "    </tr>\n",
              "  </tbody>\n",
              "</table>\n",
              "</div>\n",
              "      <button class=\"colab-df-convert\" onclick=\"convertToInteractive('df-b02db381-447a-44a1-9f4f-ce9425ea8916')\"\n",
              "              title=\"Convert this dataframe to an interactive table.\"\n",
              "              style=\"display:none;\">\n",
              "\n",
              "  <svg xmlns=\"http://www.w3.org/2000/svg\" height=\"24px\"viewBox=\"0 0 24 24\"\n",
              "       width=\"24px\">\n",
              "    <path d=\"M0 0h24v24H0V0z\" fill=\"none\"/>\n",
              "    <path d=\"M18.56 5.44l.94 2.06.94-2.06 2.06-.94-2.06-.94-.94-2.06-.94 2.06-2.06.94zm-11 1L8.5 8.5l.94-2.06 2.06-.94-2.06-.94L8.5 2.5l-.94 2.06-2.06.94zm10 10l.94 2.06.94-2.06 2.06-.94-2.06-.94-.94-2.06-.94 2.06-2.06.94z\"/><path d=\"M17.41 7.96l-1.37-1.37c-.4-.4-.92-.59-1.43-.59-.52 0-1.04.2-1.43.59L10.3 9.45l-7.72 7.72c-.78.78-.78 2.05 0 2.83L4 21.41c.39.39.9.59 1.41.59.51 0 1.02-.2 1.41-.59l7.78-7.78 2.81-2.81c.8-.78.8-2.07 0-2.86zM5.41 20L4 18.59l7.72-7.72 1.47 1.35L5.41 20z\"/>\n",
              "  </svg>\n",
              "      </button>\n",
              "\n",
              "\n",
              "\n",
              "    <div id=\"df-b97e8de1-6e8a-4b5a-968e-ee6d7669aea5\">\n",
              "      <button class=\"colab-df-quickchart\" onclick=\"quickchart('df-b97e8de1-6e8a-4b5a-968e-ee6d7669aea5')\"\n",
              "              title=\"Suggest charts.\"\n",
              "              style=\"display:none;\">\n",
              "\n",
              "<svg xmlns=\"http://www.w3.org/2000/svg\" height=\"24px\"viewBox=\"0 0 24 24\"\n",
              "     width=\"24px\">\n",
              "    <g>\n",
              "        <path d=\"M19 3H5c-1.1 0-2 .9-2 2v14c0 1.1.9 2 2 2h14c1.1 0 2-.9 2-2V5c0-1.1-.9-2-2-2zM9 17H7v-7h2v7zm4 0h-2V7h2v10zm4 0h-2v-4h2v4z\"/>\n",
              "    </g>\n",
              "</svg>\n",
              "      </button>\n",
              "    </div>\n",
              "\n",
              "<style>\n",
              "  .colab-df-quickchart {\n",
              "    background-color: #E8F0FE;\n",
              "    border: none;\n",
              "    border-radius: 50%;\n",
              "    cursor: pointer;\n",
              "    display: none;\n",
              "    fill: #1967D2;\n",
              "    height: 32px;\n",
              "    padding: 0 0 0 0;\n",
              "    width: 32px;\n",
              "  }\n",
              "\n",
              "  .colab-df-quickchart:hover {\n",
              "    background-color: #E2EBFA;\n",
              "    box-shadow: 0px 1px 2px rgba(60, 64, 67, 0.3), 0px 1px 3px 1px rgba(60, 64, 67, 0.15);\n",
              "    fill: #174EA6;\n",
              "  }\n",
              "\n",
              "  [theme=dark] .colab-df-quickchart {\n",
              "    background-color: #3B4455;\n",
              "    fill: #D2E3FC;\n",
              "  }\n",
              "\n",
              "  [theme=dark] .colab-df-quickchart:hover {\n",
              "    background-color: #434B5C;\n",
              "    box-shadow: 0px 1px 3px 1px rgba(0, 0, 0, 0.15);\n",
              "    filter: drop-shadow(0px 1px 2px rgba(0, 0, 0, 0.3));\n",
              "    fill: #FFFFFF;\n",
              "  }\n",
              "</style>\n",
              "\n",
              "    <script>\n",
              "      async function quickchart(key) {\n",
              "        const containerElement = document.querySelector('#' + key);\n",
              "        const charts = await google.colab.kernel.invokeFunction(\n",
              "            'suggestCharts', [key], {});\n",
              "      }\n",
              "    </script>\n",
              "\n",
              "      <script>\n",
              "\n",
              "function displayQuickchartButton(domScope) {\n",
              "  let quickchartButtonEl =\n",
              "    domScope.querySelector('#df-b97e8de1-6e8a-4b5a-968e-ee6d7669aea5 button.colab-df-quickchart');\n",
              "  quickchartButtonEl.style.display =\n",
              "    google.colab.kernel.accessAllowed ? 'block' : 'none';\n",
              "}\n",
              "\n",
              "        displayQuickchartButton(document);\n",
              "      </script>\n",
              "      <style>\n",
              "    .colab-df-container {\n",
              "      display:flex;\n",
              "      flex-wrap:wrap;\n",
              "      gap: 12px;\n",
              "    }\n",
              "\n",
              "    .colab-df-convert {\n",
              "      background-color: #E8F0FE;\n",
              "      border: none;\n",
              "      border-radius: 50%;\n",
              "      cursor: pointer;\n",
              "      display: none;\n",
              "      fill: #1967D2;\n",
              "      height: 32px;\n",
              "      padding: 0 0 0 0;\n",
              "      width: 32px;\n",
              "    }\n",
              "\n",
              "    .colab-df-convert:hover {\n",
              "      background-color: #E2EBFA;\n",
              "      box-shadow: 0px 1px 2px rgba(60, 64, 67, 0.3), 0px 1px 3px 1px rgba(60, 64, 67, 0.15);\n",
              "      fill: #174EA6;\n",
              "    }\n",
              "\n",
              "    [theme=dark] .colab-df-convert {\n",
              "      background-color: #3B4455;\n",
              "      fill: #D2E3FC;\n",
              "    }\n",
              "\n",
              "    [theme=dark] .colab-df-convert:hover {\n",
              "      background-color: #434B5C;\n",
              "      box-shadow: 0px 1px 3px 1px rgba(0, 0, 0, 0.15);\n",
              "      filter: drop-shadow(0px 1px 2px rgba(0, 0, 0, 0.3));\n",
              "      fill: #FFFFFF;\n",
              "    }\n",
              "  </style>\n",
              "\n",
              "      <script>\n",
              "        const buttonEl =\n",
              "          document.querySelector('#df-b02db381-447a-44a1-9f4f-ce9425ea8916 button.colab-df-convert');\n",
              "        buttonEl.style.display =\n",
              "          google.colab.kernel.accessAllowed ? 'block' : 'none';\n",
              "\n",
              "        async function convertToInteractive(key) {\n",
              "          const element = document.querySelector('#df-b02db381-447a-44a1-9f4f-ce9425ea8916');\n",
              "          const dataTable =\n",
              "            await google.colab.kernel.invokeFunction('convertToInteractive',\n",
              "                                                     [key], {});\n",
              "          if (!dataTable) return;\n",
              "\n",
              "          const docLinkHtml = 'Like what you see? Visit the ' +\n",
              "            '<a target=\"_blank\" href=https://colab.research.google.com/notebooks/data_table.ipynb>data table notebook</a>'\n",
              "            + ' to learn more about interactive tables.';\n",
              "          element.innerHTML = '';\n",
              "          dataTable['output_type'] = 'display_data';\n",
              "          await google.colab.output.renderOutput(dataTable, element);\n",
              "          const docLink = document.createElement('div');\n",
              "          docLink.innerHTML = docLinkHtml;\n",
              "          element.appendChild(docLink);\n",
              "        }\n",
              "      </script>\n",
              "    </div>\n",
              "  </div>\n"
            ]
          },
          "metadata": {},
          "execution_count": 9
        }
      ],
      "source": [
        "# Read in ATT dataframe using above function:\n",
        "ticker=\"T\"\n",
        "stock=choose_stock(ticker)\n",
        "stock.head()"
      ]
    },
    {
      "cell_type": "markdown",
      "metadata": {
        "id": "0W01Q4b0FtKS"
      },
      "source": []
    },
    {
      "cell_type": "code",
      "execution_count": 10,
      "metadata": {
        "colab": {
          "base_uri": "https://localhost:8080/",
          "height": 112
        },
        "id": "_I3ar2HkaP5_",
        "outputId": "3dc01a20-0c7b-4951-a916-cf091565c816"
      },
      "outputs": [
        {
          "output_type": "execute_result",
          "data": {
            "text/plain": [
              "                     Mkt-RF   SMB  HML  Close   Returns\n",
              "Date                                                   \n",
              "2017-11-01 00:00:00    0.05 -0.77  0.1  33.55 -0.297177"
            ],
            "text/html": [
              "\n",
              "\n",
              "  <div id=\"df-a4360e54-d330-4ca8-a67f-22182704b0b1\">\n",
              "    <div class=\"colab-df-container\">\n",
              "      <div>\n",
              "<style scoped>\n",
              "    .dataframe tbody tr th:only-of-type {\n",
              "        vertical-align: middle;\n",
              "    }\n",
              "\n",
              "    .dataframe tbody tr th {\n",
              "        vertical-align: top;\n",
              "    }\n",
              "\n",
              "    .dataframe thead th {\n",
              "        text-align: right;\n",
              "    }\n",
              "</style>\n",
              "<table border=\"1\" class=\"dataframe\">\n",
              "  <thead>\n",
              "    <tr style=\"text-align: right;\">\n",
              "      <th></th>\n",
              "      <th>Mkt-RF</th>\n",
              "      <th>SMB</th>\n",
              "      <th>HML</th>\n",
              "      <th>Close</th>\n",
              "      <th>Returns</th>\n",
              "    </tr>\n",
              "    <tr>\n",
              "      <th>Date</th>\n",
              "      <th></th>\n",
              "      <th></th>\n",
              "      <th></th>\n",
              "      <th></th>\n",
              "      <th></th>\n",
              "    </tr>\n",
              "  </thead>\n",
              "  <tbody>\n",
              "    <tr>\n",
              "      <th>2017-11-01 00:00:00</th>\n",
              "      <td>0.05</td>\n",
              "      <td>-0.77</td>\n",
              "      <td>0.1</td>\n",
              "      <td>33.55</td>\n",
              "      <td>-0.297177</td>\n",
              "    </tr>\n",
              "  </tbody>\n",
              "</table>\n",
              "</div>\n",
              "      <button class=\"colab-df-convert\" onclick=\"convertToInteractive('df-a4360e54-d330-4ca8-a67f-22182704b0b1')\"\n",
              "              title=\"Convert this dataframe to an interactive table.\"\n",
              "              style=\"display:none;\">\n",
              "\n",
              "  <svg xmlns=\"http://www.w3.org/2000/svg\" height=\"24px\"viewBox=\"0 0 24 24\"\n",
              "       width=\"24px\">\n",
              "    <path d=\"M0 0h24v24H0V0z\" fill=\"none\"/>\n",
              "    <path d=\"M18.56 5.44l.94 2.06.94-2.06 2.06-.94-2.06-.94-.94-2.06-.94 2.06-2.06.94zm-11 1L8.5 8.5l.94-2.06 2.06-.94-2.06-.94L8.5 2.5l-.94 2.06-2.06.94zm10 10l.94 2.06.94-2.06 2.06-.94-2.06-.94-.94-2.06-.94 2.06-2.06.94z\"/><path d=\"M17.41 7.96l-1.37-1.37c-.4-.4-.92-.59-1.43-.59-.52 0-1.04.2-1.43.59L10.3 9.45l-7.72 7.72c-.78.78-.78 2.05 0 2.83L4 21.41c.39.39.9.59 1.41.59.51 0 1.02-.2 1.41-.59l7.78-7.78 2.81-2.81c.8-.78.8-2.07 0-2.86zM5.41 20L4 18.59l7.72-7.72 1.47 1.35L5.41 20z\"/>\n",
              "  </svg>\n",
              "      </button>\n",
              "\n",
              "\n",
              "\n",
              "    <div id=\"df-3ebca0ee-a59d-47f0-b06c-d7514bfcef45\">\n",
              "      <button class=\"colab-df-quickchart\" onclick=\"quickchart('df-3ebca0ee-a59d-47f0-b06c-d7514bfcef45')\"\n",
              "              title=\"Suggest charts.\"\n",
              "              style=\"display:none;\">\n",
              "\n",
              "<svg xmlns=\"http://www.w3.org/2000/svg\" height=\"24px\"viewBox=\"0 0 24 24\"\n",
              "     width=\"24px\">\n",
              "    <g>\n",
              "        <path d=\"M19 3H5c-1.1 0-2 .9-2 2v14c0 1.1.9 2 2 2h14c1.1 0 2-.9 2-2V5c0-1.1-.9-2-2-2zM9 17H7v-7h2v7zm4 0h-2V7h2v10zm4 0h-2v-4h2v4z\"/>\n",
              "    </g>\n",
              "</svg>\n",
              "      </button>\n",
              "    </div>\n",
              "\n",
              "<style>\n",
              "  .colab-df-quickchart {\n",
              "    background-color: #E8F0FE;\n",
              "    border: none;\n",
              "    border-radius: 50%;\n",
              "    cursor: pointer;\n",
              "    display: none;\n",
              "    fill: #1967D2;\n",
              "    height: 32px;\n",
              "    padding: 0 0 0 0;\n",
              "    width: 32px;\n",
              "  }\n",
              "\n",
              "  .colab-df-quickchart:hover {\n",
              "    background-color: #E2EBFA;\n",
              "    box-shadow: 0px 1px 2px rgba(60, 64, 67, 0.3), 0px 1px 3px 1px rgba(60, 64, 67, 0.15);\n",
              "    fill: #174EA6;\n",
              "  }\n",
              "\n",
              "  [theme=dark] .colab-df-quickchart {\n",
              "    background-color: #3B4455;\n",
              "    fill: #D2E3FC;\n",
              "  }\n",
              "\n",
              "  [theme=dark] .colab-df-quickchart:hover {\n",
              "    background-color: #434B5C;\n",
              "    box-shadow: 0px 1px 3px 1px rgba(0, 0, 0, 0.15);\n",
              "    filter: drop-shadow(0px 1px 2px rgba(0, 0, 0, 0.3));\n",
              "    fill: #FFFFFF;\n",
              "  }\n",
              "</style>\n",
              "\n",
              "    <script>\n",
              "      async function quickchart(key) {\n",
              "        const containerElement = document.querySelector('#' + key);\n",
              "        const charts = await google.colab.kernel.invokeFunction(\n",
              "            'suggestCharts', [key], {});\n",
              "      }\n",
              "    </script>\n",
              "\n",
              "      <script>\n",
              "\n",
              "function displayQuickchartButton(domScope) {\n",
              "  let quickchartButtonEl =\n",
              "    domScope.querySelector('#df-3ebca0ee-a59d-47f0-b06c-d7514bfcef45 button.colab-df-quickchart');\n",
              "  quickchartButtonEl.style.display =\n",
              "    google.colab.kernel.accessAllowed ? 'block' : 'none';\n",
              "}\n",
              "\n",
              "        displayQuickchartButton(document);\n",
              "      </script>\n",
              "      <style>\n",
              "    .colab-df-container {\n",
              "      display:flex;\n",
              "      flex-wrap:wrap;\n",
              "      gap: 12px;\n",
              "    }\n",
              "\n",
              "    .colab-df-convert {\n",
              "      background-color: #E8F0FE;\n",
              "      border: none;\n",
              "      border-radius: 50%;\n",
              "      cursor: pointer;\n",
              "      display: none;\n",
              "      fill: #1967D2;\n",
              "      height: 32px;\n",
              "      padding: 0 0 0 0;\n",
              "      width: 32px;\n",
              "    }\n",
              "\n",
              "    .colab-df-convert:hover {\n",
              "      background-color: #E2EBFA;\n",
              "      box-shadow: 0px 1px 2px rgba(60, 64, 67, 0.3), 0px 1px 3px 1px rgba(60, 64, 67, 0.15);\n",
              "      fill: #174EA6;\n",
              "    }\n",
              "\n",
              "    [theme=dark] .colab-df-convert {\n",
              "      background-color: #3B4455;\n",
              "      fill: #D2E3FC;\n",
              "    }\n",
              "\n",
              "    [theme=dark] .colab-df-convert:hover {\n",
              "      background-color: #434B5C;\n",
              "      box-shadow: 0px 1px 3px 1px rgba(0, 0, 0, 0.15);\n",
              "      filter: drop-shadow(0px 1px 2px rgba(0, 0, 0, 0.3));\n",
              "      fill: #FFFFFF;\n",
              "    }\n",
              "  </style>\n",
              "\n",
              "      <script>\n",
              "        const buttonEl =\n",
              "          document.querySelector('#df-a4360e54-d330-4ca8-a67f-22182704b0b1 button.colab-df-convert');\n",
              "        buttonEl.style.display =\n",
              "          google.colab.kernel.accessAllowed ? 'block' : 'none';\n",
              "\n",
              "        async function convertToInteractive(key) {\n",
              "          const element = document.querySelector('#df-a4360e54-d330-4ca8-a67f-22182704b0b1');\n",
              "          const dataTable =\n",
              "            await google.colab.kernel.invokeFunction('convertToInteractive',\n",
              "                                                     [key], {});\n",
              "          if (!dataTable) return;\n",
              "\n",
              "          const docLinkHtml = 'Like what you see? Visit the ' +\n",
              "            '<a target=\"_blank\" href=https://colab.research.google.com/notebooks/data_table.ipynb>data table notebook</a>'\n",
              "            + ' to learn more about interactive tables.';\n",
              "          element.innerHTML = '';\n",
              "          dataTable['output_type'] = 'display_data';\n",
              "          await google.colab.output.renderOutput(dataTable, element);\n",
              "          const docLink = document.createElement('div');\n",
              "          docLink.innerHTML = docLinkHtml;\n",
              "          element.appendChild(docLink);\n",
              "        }\n",
              "      </script>\n",
              "    </div>\n",
              "  </div>\n"
            ]
          },
          "metadata": {},
          "execution_count": 10
        }
      ],
      "source": [
        "# Concatenate Fama-French dataframe with Stock dataframe:\n",
        "combined_df = pd.concat([factors, stock], axis='columns', join='inner')\n",
        "\n",
        "# Drop nulls:\n",
        "combined_df = combined_df.dropna()\n",
        "combined_df = combined_df.drop('RF', axis=1)\n",
        "\n",
        "# Preview dataframe:\n",
        "combined_df.head()"
      ]
    },
    {
      "cell_type": "code",
      "execution_count": 11,
      "metadata": {
        "id": "HqChlkcHIt7B"
      },
      "outputs": [],
      "source": [
        "# Define X and y variables:\n",
        "X = combined_df.drop('Returns', axis=1)\n",
        "X = X.drop('Close',axis=1)\n",
        "y = combined_df.loc[:, 'Returns']"
      ]
    },
    {
      "cell_type": "code",
      "execution_count": 12,
      "metadata": {
        "colab": {
          "base_uri": "https://localhost:8080/"
        },
        "id": "R1NwY2HEeoxF",
        "outputId": "979beff1-f3c9-4adc-f802-90de0aff88ed"
      },
      "outputs": [
        {
          "output_type": "execute_result",
          "data": {
            "text/plain": [
              "Date\n",
              "2017-11-01 00:00:00    33.55\n",
              "Name: Close, dtype: float64"
            ]
          },
          "metadata": {},
          "execution_count": 12
        }
      ],
      "source": [
        "# Split into Training/Testing Data:\n",
        "split = int(0.8 * len(X))\n",
        "X_train = X[: split]\n",
        "X_test = X[split:]\n",
        "y_train = y[: split]\n",
        "y_test = y[split:]\n",
        "close_test=combined_df[\"Close\"][split:]\n",
        "close_test"
      ]
    },
    {
      "cell_type": "code",
      "execution_count": 13,
      "metadata": {
        "id": "Th9eW0QJfScG",
        "colab": {
          "base_uri": "https://localhost:8080/",
          "height": 380
        },
        "outputId": "58ce1a2e-3b75-4236-fa20-5f81be0042d0"
      },
      "outputs": [
        {
          "output_type": "error",
          "ename": "ValueError",
          "evalue": "ignored",
          "traceback": [
            "\u001b[0;31m---------------------------------------------------------------------------\u001b[0m",
            "\u001b[0;31mValueError\u001b[0m                                Traceback (most recent call last)",
            "\u001b[0;32m<ipython-input-13-9054b68914e1>\u001b[0m in \u001b[0;36m<cell line: 6>\u001b[0;34m()\u001b[0m\n\u001b[1;32m      4\u001b[0m \u001b[0;31m# Create, train, and predict model:\u001b[0m\u001b[0;34m\u001b[0m\u001b[0;34m\u001b[0m\u001b[0m\n\u001b[1;32m      5\u001b[0m \u001b[0mlin_reg_model\u001b[0m \u001b[0;34m=\u001b[0m \u001b[0mLinearRegression\u001b[0m\u001b[0;34m(\u001b[0m\u001b[0mfit_intercept\u001b[0m\u001b[0;34m=\u001b[0m\u001b[0;32mTrue\u001b[0m\u001b[0;34m)\u001b[0m\u001b[0;34m\u001b[0m\u001b[0;34m\u001b[0m\u001b[0m\n\u001b[0;32m----> 6\u001b[0;31m \u001b[0mlin_reg_model\u001b[0m \u001b[0;34m=\u001b[0m \u001b[0mlin_reg_model\u001b[0m\u001b[0;34m.\u001b[0m\u001b[0mfit\u001b[0m\u001b[0;34m(\u001b[0m\u001b[0mX_train\u001b[0m\u001b[0;34m,\u001b[0m \u001b[0my_train\u001b[0m\u001b[0;34m)\u001b[0m\u001b[0;34m\u001b[0m\u001b[0;34m\u001b[0m\u001b[0m\n\u001b[0m\u001b[1;32m      7\u001b[0m \u001b[0mpredictions\u001b[0m \u001b[0;34m=\u001b[0m \u001b[0mlin_reg_model\u001b[0m\u001b[0;34m.\u001b[0m\u001b[0mpredict\u001b[0m\u001b[0;34m(\u001b[0m\u001b[0mX_test\u001b[0m\u001b[0;34m)\u001b[0m\u001b[0;34m\u001b[0m\u001b[0;34m\u001b[0m\u001b[0m\n",
            "\u001b[0;32m/usr/local/lib/python3.10/dist-packages/sklearn/linear_model/_base.py\u001b[0m in \u001b[0;36mfit\u001b[0;34m(self, X, y, sample_weight)\u001b[0m\n\u001b[1;32m    646\u001b[0m         \u001b[0maccept_sparse\u001b[0m \u001b[0;34m=\u001b[0m \u001b[0;32mFalse\u001b[0m \u001b[0;32mif\u001b[0m \u001b[0mself\u001b[0m\u001b[0;34m.\u001b[0m\u001b[0mpositive\u001b[0m \u001b[0;32melse\u001b[0m \u001b[0;34m[\u001b[0m\u001b[0;34m\"csr\"\u001b[0m\u001b[0;34m,\u001b[0m \u001b[0;34m\"csc\"\u001b[0m\u001b[0;34m,\u001b[0m \u001b[0;34m\"coo\"\u001b[0m\u001b[0;34m]\u001b[0m\u001b[0;34m\u001b[0m\u001b[0;34m\u001b[0m\u001b[0m\n\u001b[1;32m    647\u001b[0m \u001b[0;34m\u001b[0m\u001b[0m\n\u001b[0;32m--> 648\u001b[0;31m         X, y = self._validate_data(\n\u001b[0m\u001b[1;32m    649\u001b[0m             \u001b[0mX\u001b[0m\u001b[0;34m,\u001b[0m \u001b[0my\u001b[0m\u001b[0;34m,\u001b[0m \u001b[0maccept_sparse\u001b[0m\u001b[0;34m=\u001b[0m\u001b[0maccept_sparse\u001b[0m\u001b[0;34m,\u001b[0m \u001b[0my_numeric\u001b[0m\u001b[0;34m=\u001b[0m\u001b[0;32mTrue\u001b[0m\u001b[0;34m,\u001b[0m \u001b[0mmulti_output\u001b[0m\u001b[0;34m=\u001b[0m\u001b[0;32mTrue\u001b[0m\u001b[0;34m\u001b[0m\u001b[0;34m\u001b[0m\u001b[0m\n\u001b[1;32m    650\u001b[0m         )\n",
            "\u001b[0;32m/usr/local/lib/python3.10/dist-packages/sklearn/base.py\u001b[0m in \u001b[0;36m_validate_data\u001b[0;34m(self, X, y, reset, validate_separately, **check_params)\u001b[0m\n\u001b[1;32m    582\u001b[0m                 \u001b[0my\u001b[0m \u001b[0;34m=\u001b[0m \u001b[0mcheck_array\u001b[0m\u001b[0;34m(\u001b[0m\u001b[0my\u001b[0m\u001b[0;34m,\u001b[0m \u001b[0minput_name\u001b[0m\u001b[0;34m=\u001b[0m\u001b[0;34m\"y\"\u001b[0m\u001b[0;34m,\u001b[0m \u001b[0;34m**\u001b[0m\u001b[0mcheck_y_params\u001b[0m\u001b[0;34m)\u001b[0m\u001b[0;34m\u001b[0m\u001b[0;34m\u001b[0m\u001b[0m\n\u001b[1;32m    583\u001b[0m             \u001b[0;32melse\u001b[0m\u001b[0;34m:\u001b[0m\u001b[0;34m\u001b[0m\u001b[0;34m\u001b[0m\u001b[0m\n\u001b[0;32m--> 584\u001b[0;31m                 \u001b[0mX\u001b[0m\u001b[0;34m,\u001b[0m \u001b[0my\u001b[0m \u001b[0;34m=\u001b[0m \u001b[0mcheck_X_y\u001b[0m\u001b[0;34m(\u001b[0m\u001b[0mX\u001b[0m\u001b[0;34m,\u001b[0m \u001b[0my\u001b[0m\u001b[0;34m,\u001b[0m \u001b[0;34m**\u001b[0m\u001b[0mcheck_params\u001b[0m\u001b[0;34m)\u001b[0m\u001b[0;34m\u001b[0m\u001b[0;34m\u001b[0m\u001b[0m\n\u001b[0m\u001b[1;32m    585\u001b[0m             \u001b[0mout\u001b[0m \u001b[0;34m=\u001b[0m \u001b[0mX\u001b[0m\u001b[0;34m,\u001b[0m \u001b[0my\u001b[0m\u001b[0;34m\u001b[0m\u001b[0;34m\u001b[0m\u001b[0m\n\u001b[1;32m    586\u001b[0m \u001b[0;34m\u001b[0m\u001b[0m\n",
            "\u001b[0;32m/usr/local/lib/python3.10/dist-packages/sklearn/utils/validation.py\u001b[0m in \u001b[0;36mcheck_X_y\u001b[0;34m(X, y, accept_sparse, accept_large_sparse, dtype, order, copy, force_all_finite, ensure_2d, allow_nd, multi_output, ensure_min_samples, ensure_min_features, y_numeric, estimator)\u001b[0m\n\u001b[1;32m   1104\u001b[0m         )\n\u001b[1;32m   1105\u001b[0m \u001b[0;34m\u001b[0m\u001b[0m\n\u001b[0;32m-> 1106\u001b[0;31m     X = check_array(\n\u001b[0m\u001b[1;32m   1107\u001b[0m         \u001b[0mX\u001b[0m\u001b[0;34m,\u001b[0m\u001b[0;34m\u001b[0m\u001b[0;34m\u001b[0m\u001b[0m\n\u001b[1;32m   1108\u001b[0m         \u001b[0maccept_sparse\u001b[0m\u001b[0;34m=\u001b[0m\u001b[0maccept_sparse\u001b[0m\u001b[0;34m,\u001b[0m\u001b[0;34m\u001b[0m\u001b[0;34m\u001b[0m\u001b[0m\n",
            "\u001b[0;32m/usr/local/lib/python3.10/dist-packages/sklearn/utils/validation.py\u001b[0m in \u001b[0;36mcheck_array\u001b[0;34m(array, accept_sparse, accept_large_sparse, dtype, order, copy, force_all_finite, ensure_2d, allow_nd, ensure_min_samples, ensure_min_features, estimator, input_name)\u001b[0m\n\u001b[1;32m    929\u001b[0m         \u001b[0mn_samples\u001b[0m \u001b[0;34m=\u001b[0m \u001b[0m_num_samples\u001b[0m\u001b[0;34m(\u001b[0m\u001b[0marray\u001b[0m\u001b[0;34m)\u001b[0m\u001b[0;34m\u001b[0m\u001b[0;34m\u001b[0m\u001b[0m\n\u001b[1;32m    930\u001b[0m         \u001b[0;32mif\u001b[0m \u001b[0mn_samples\u001b[0m \u001b[0;34m<\u001b[0m \u001b[0mensure_min_samples\u001b[0m\u001b[0;34m:\u001b[0m\u001b[0;34m\u001b[0m\u001b[0;34m\u001b[0m\u001b[0m\n\u001b[0;32m--> 931\u001b[0;31m             raise ValueError(\n\u001b[0m\u001b[1;32m    932\u001b[0m                 \u001b[0;34m\"Found array with %d sample(s) (shape=%s) while a\"\u001b[0m\u001b[0;34m\u001b[0m\u001b[0;34m\u001b[0m\u001b[0m\n\u001b[1;32m    933\u001b[0m                 \u001b[0;34m\" minimum of %d is required%s.\"\u001b[0m\u001b[0;34m\u001b[0m\u001b[0;34m\u001b[0m\u001b[0m\n",
            "\u001b[0;31mValueError\u001b[0m: Found array with 0 sample(s) (shape=(0, 3)) while a minimum of 1 is required by LinearRegression."
          ]
        }
      ],
      "source": [
        "# Import Linear Regression Model from SKLearn:\n",
        "from sklearn.linear_model import LinearRegression\n",
        "\n",
        "# Create, train, and predict model:\n",
        "lin_reg_model = LinearRegression(fit_intercept=True)\n",
        "lin_reg_model = lin_reg_model.fit(X_train, y_train)\n",
        "predictions = lin_reg_model.predict(X_test)"
      ]
    },
    {
      "cell_type": "code",
      "execution_count": null,
      "metadata": {
        "id": "T_kAEFbEhfW-"
      },
      "outputs": [],
      "source": [
        "# Convert y_test to a dataframe:\n",
        "y_test = y_test.to_frame()"
      ]
    },
    {
      "cell_type": "code",
      "execution_count": null,
      "metadata": {
        "id": "qHVKfxVLiAiM"
      },
      "outputs": [],
      "source": [
        "signals_df = y_test.copy()\n",
        "\n",
        "# Add \"predictions\" to dataframe:\n",
        "y_test['Predictions'] = predictions\n",
        "y_test[\"Close\"]=close_test\n",
        "\n",
        "# Add \"Buy Signal\" column based on whether day's predictions were greater than the day's actual returns:\n",
        "y_test['Buy Signal'] = np.where(y_test['Predictions'] > y_test['Returns'], 1.0,0.0)\n",
        "\n",
        "# Drop nulls:\n",
        "y_test=y_test.dropna()\n",
        "\n",
        "y_test.head()"
      ]
    },
    {
      "cell_type": "code",
      "execution_count": null,
      "metadata": {
        "id": "1o7MCnrgkjqe"
      },
      "outputs": [],
      "source": [
        "# Define function to generate signals dataframe for algorithm:\n",
        "def generate_signals(input_df, start_capital=100000, share_count=2000):\n",
        "  # Set initial capital:\n",
        "  initial_capital = float(start_capital)\n",
        "\n",
        "  signals_df = input_df.copy()\n",
        "\n",
        "  # Set the share size:\n",
        "  share_size = share_count\n",
        "\n",
        "  # Take a 500 share position where the Buy Signal is 1 (prior day's predictions greater than prior day's returns):\n",
        "  signals_df['Position'] = share_size * signals_df['Buy Signal']\n",
        "\n",
        "  # Make Entry / Exit Column:\n",
        "  signals_df['Entry/Exit']=signals_df[\"Buy Signal\"].diff()\n",
        "\n",
        "  # Find the points in time where a 500 share position is bought or sold:\n",
        "  signals_df['Entry/Exit Position'] = signals_df['Position'].diff()\n",
        "\n",
        "  # Multiply share price by entry/exit positions and get the cumulative sum:\n",
        "  signals_df['Portfolio Holdings'] = signals_df['Close'] * signals_df['Entry/Exit Position'].cumsum()\n",
        "\n",
        "  # Subtract the initial capital by the portfolio holdings to get the amount of liquid cash in the portfolio:\n",
        "  signals_df['Portfolio Cash'] = initial_capital - (signals_df['Close'] * signals_df['Entry/Exit Position']).cumsum()\n",
        "\n",
        "  # Get the total portfolio value by adding the cash amount by the portfolio holdings (or investments):\n",
        "  signals_df['Portfolio Total'] = signals_df['Portfolio Cash'] + signals_df['Portfolio Holdings']\n",
        "\n",
        "  # Calculate the portfolio daily returns:\n",
        "  signals_df['Portfolio Daily Returns'] = signals_df['Portfolio Total'].pct_change()\n",
        "\n",
        "  # Calculate the cumulative returns:\n",
        "  signals_df['Portfolio Cumulative Returns'] = (1 + signals_df['Portfolio Daily Returns']).cumprod() - 1\n",
        "\n",
        "  signals_df = signals_df.dropna()\n",
        "\n",
        "  return signals_df"
      ]
    },
    {
      "cell_type": "code",
      "execution_count": null,
      "metadata": {
        "id": "gnr0SOlZcHHq"
      },
      "outputs": [],
      "source": [
        "# Generate and view signals dataframe using generate signals function\n",
        "signals_df=generate_signals(y_test)\n",
        "signals_df.head(10)"
      ]
    },
    {
      "cell_type": "code",
      "execution_count": null,
      "metadata": {
        "id": "uNaQUGiirwb9"
      },
      "outputs": [],
      "source": [
        "def algo_evaluation(signals_df):\n",
        "  # Prepare dataframe for metrics\n",
        "  metrics = [\n",
        "      'Annual Return',\n",
        "      'Cumulative Returns',\n",
        "      'Annual Volatility',\n",
        "      'Sharpe Ratio',\n",
        "      'Sortino Ratio']\n",
        "\n",
        "  columns = ['Backtest']\n",
        "\n",
        "  # Initialize the DataFrame with index set to evaluation metrics and column as `Backtest` (just like PyFolio)\n",
        "  portfolio_evaluation_df = pd.DataFrame(index=metrics, columns=columns)\n",
        "  # Calculate cumulative returns:\n",
        "  portfolio_evaluation_df.loc['Cumulative Returns'] = signals_df['Portfolio Cumulative Returns'][-1]\n",
        "  # Calculate annualized returns:\n",
        "  portfolio_evaluation_df.loc['Annual Return'] = (signals_df['Portfolio Daily Returns'].mean() * 252)\n",
        "  # Calculate annual volatility:\n",
        "  portfolio_evaluation_df.loc['Annual Volatility'] = (signals_df['Portfolio Daily Returns'].std() * np.sqrt(252))\n",
        "  # Calculate Sharpe Ratio:\n",
        "  portfolio_evaluation_df.loc['Sharpe Ratio'] = (signals_df['Portfolio Daily Returns'].mean() * 252) / (signals_df['Portfolio Daily Returns'].std() * np.sqrt(252))\n",
        "\n",
        "  #Calculate Sortino Ratio/Downside Return:\n",
        "  sortino_ratio_df = signals_df[['Portfolio Daily Returns']].copy()\n",
        "  sortino_ratio_df.loc[:,'Downside Returns'] = 0\n",
        "\n",
        "  target = 0\n",
        "  mask = sortino_ratio_df['Portfolio Daily Returns'] < target\n",
        "  sortino_ratio_df.loc[mask, 'Downside Returns'] = sortino_ratio_df['Portfolio Daily Returns']**2\n",
        "  down_stdev = np.sqrt(sortino_ratio_df['Downside Returns'].mean()) * np.sqrt(252)\n",
        "  expected_return = sortino_ratio_df['Portfolio Daily Returns'].mean() * 252\n",
        "  sortino_ratio = expected_return/down_stdev\n",
        "\n",
        "  portfolio_evaluation_df.loc['Sortino Ratio'] = sortino_ratio\n",
        "\n",
        "\n",
        "  return portfolio_evaluation_df"
      ]
    },
    {
      "cell_type": "code",
      "execution_count": null,
      "metadata": {
        "id": "fJv6pBv0UMSe"
      },
      "outputs": [],
      "source": [
        "# Generate Metrics for Algorithm:\n",
        "algo_evaluation(signals_df)"
      ]
    },
    {
      "cell_type": "code",
      "execution_count": null,
      "metadata": {
        "id": "OMiILi5wGhij"
      },
      "outputs": [],
      "source": [
        "# Define function to evaluate the underlying asset:\n",
        "def underlying_evaluation(signals_df):\n",
        "  underlying=pd.DataFrame()\n",
        "  underlying[\"Close\"]=signals_df[\"Close\"]\n",
        "  underlying[\"Portfolio Daily Returns\"]=underlying[\"Close\"].pct_change()\n",
        "  underlying[\"Portfolio Daily Returns\"].fillna(0,inplace=True)\n",
        "  underlying['Portfolio Cumulative Returns']=(1 + underlying['Portfolio Daily Returns']).cumprod() - 1\n",
        "\n",
        "  underlying_evaluation=algo_evaluation(underlying)\n",
        "\n",
        "  return underlying_evaluation"
      ]
    },
    {
      "cell_type": "code",
      "execution_count": null,
      "metadata": {
        "id": "u8rIyTOPLivV"
      },
      "outputs": [],
      "source": [
        "# Define function to return algo evaluation relative to underlying asset combines the two evaluations into a single dataframe\n",
        "def algo_vs_underlying(signals_df):\n",
        "  metrics = [\n",
        "      'Annual Return',\n",
        "      'Cumulative Returns',\n",
        "      'Annual Volatility',\n",
        "      'Sharpe Ratio',\n",
        "      'Sortino Ratio']\n",
        "\n",
        "  columns = ['Algo','Underlying']\n",
        "  algo=algo_evaluation(signals_df)\n",
        "  underlying=underlying_evaluation(signals_df)\n",
        "\n",
        "  comparison_df=pd.DataFrame(index=metrics,columns=columns)\n",
        "  comparison_df['Algo']=algo['Backtest']\n",
        "  comparison_df['Underlying']=underlying['Backtest']\n",
        "\n",
        "  return comparison_df\n",
        "\n",
        "# Generate Metrics for Function vs. Buy-and-Hold Strategy:\n",
        "algo_vs_underlying(signals_df)"
      ]
    },
    {
      "cell_type": "code",
      "execution_count": null,
      "metadata": {
        "id": "fcrWQnUCm4aU"
      },
      "outputs": [],
      "source": [
        "# Define function which accepts daily signals dataframe and returns evaluations of individual trades:\n",
        "def trade_evaluation(signals_df):\n",
        "\n",
        "  #initialize dataframe\n",
        "  trade_evaluation_df = pd.DataFrame(\n",
        "    columns=[\n",
        "        'Entry Date',\n",
        "        'Exit Date',\n",
        "        'Shares',\n",
        "        'Entry Share Price',\n",
        "        'Exit Share Price',\n",
        "        'Entry Portfolio Holding',\n",
        "        'Exit Portfolio Holding',\n",
        "        'Profit/Loss']\n",
        "  )\n",
        "\n",
        "\n",
        "  entry_date = ''\n",
        "  exit_date = ''\n",
        "  entry_portfolio_holding = 0\n",
        "  exit_portfolio_holding = 0\n",
        "  share_size = 0\n",
        "  entry_share_price = 0\n",
        "  exit_share_price = 0\n",
        "\n",
        "  # Loop through signal DataFrame\n",
        "  # If `Entry/Exit` is 1, set entry trade metrics\n",
        "  # Else if `Entry/Exit` is -1, set exit trade metrics and calculate profit,\n",
        "  # Then append the record to the trade evaluation DataFrame\n",
        "  for index, row in signals_df.iterrows():\n",
        "      if row['Entry/Exit'] == 1:\n",
        "          entry_date = index\n",
        "          entry_portfolio_holding = row['Portfolio Total']\n",
        "          share_size = row['Entry/Exit Position']\n",
        "          entry_share_price = row['Close']\n",
        "\n",
        "      elif row['Entry/Exit'] == -1:\n",
        "          exit_date = index\n",
        "          exit_portfolio_holding = abs(row['Portfolio Total'])\n",
        "          exit_share_price = row['Close']\n",
        "          profit_loss = exit_portfolio_holding - entry_portfolio_holding\n",
        "          trade_evaluation_df = trade_evaluation_df.append(\n",
        "              {\n",
        "                  'Entry Date': entry_date,\n",
        "                  'Exit Date': exit_date,\n",
        "                  'Shares': share_size,\n",
        "                  'Entry Share Price': entry_share_price,\n",
        "                  'Exit Share Price': exit_share_price,\n",
        "                  'Entry Portfolio Holding': entry_portfolio_holding,\n",
        "                  'Exit Portfolio Holding': exit_portfolio_holding,\n",
        "                  'Profit/Loss': profit_loss\n",
        "              },\n",
        "              ignore_index=True)\n",
        "\n",
        "  # Print the DataFrame\n",
        "  return trade_evaluation_df"
      ]
    },
    {
      "cell_type": "code",
      "execution_count": null,
      "metadata": {
        "id": "5JoXHu4PoOzp"
      },
      "outputs": [],
      "source": [
        "# Generate Evaluation table:\n",
        "trade_evaluation_df=trade_evaluation(signals_df)\n",
        "trade_evaluation_df"
      ]
    },
    {
      "cell_type": "markdown",
      "metadata": {
        "id": "y6MtCk_bqWYE"
      },
      "source": [
        "# ANOVA Table / Other Visualizations for 3-Factor Models:  \n",
        "# ATT:"
      ]
    },
    {
      "cell_type": "code",
      "execution_count": null,
      "metadata": {
        "id": "qGeaI5W8qlRZ"
      },
      "outputs": [],
      "source": [
        "# Set X and y variables:\n",
        "y = combined_df.loc[:, 'Returns']\n",
        "X = combined_df.drop('Returns', axis=1)\n",
        "X = X.drop('Close',axis=1)\n",
        "\n",
        "# Add \"Constant\" column of \"1s\" to DataFrame to act as an intercept, using StatsModels:\n",
        "X = sm.add_constant(X)\n",
        "\n",
        "# Split into Training/Testing data:\n",
        "split = int(0.8 * len(X))\n",
        "X_train = X[: split]\n",
        "X_test = X[split:]\n",
        "y_train = y[: split]\n",
        "y_test = y[split:]\n",
        "\n",
        "# Run Ordinary Least Squares (OLS )Model:\n",
        "model = sm.OLS(y_test, X_test)\n",
        "model_results = model.fit()\n",
        "print(model_results.summary())"
      ]
    },
    {
      "cell_type": "code",
      "execution_count": null,
      "metadata": {
        "id": "AvVAAlMJrluf"
      },
      "outputs": [],
      "source": [
        "# Plot Partial Regression Plot:\n",
        "fig = sm.graphics.plot_partregress_grid(model_results, fig = plt.figure(figsize=(12,8)))\n",
        "plt.show()"
      ]
    },
    {
      "cell_type": "code",
      "execution_count": null,
      "metadata": {
        "id": "GLgLg-d47PSp"
      },
      "outputs": [],
      "source": [
        "# Plot P&L Histrogram:\n",
        "trade_evaluation_df[\"Profit/Loss\"].hist(bins=20)"
      ]
    },
    {
      "cell_type": "code",
      "execution_count": null,
      "metadata": {
        "id": "9h09CjRLSfOF"
      },
      "outputs": [],
      "source": [
        "# Define function that plots Algo Cumulative Returns vs. Underlying Cumulative Returns:\n",
        "def underlying_returns(signals_df):\n",
        "  underlying=pd.DataFrame()\n",
        "  underlying[\"Close\"]=signals_df[\"Close\"]\n",
        "  underlying[\"Underlying Daily Returns\"]=underlying[\"Close\"].pct_change()\n",
        "  underlying[\"Underlying Daily Returns\"].fillna(0,inplace=True)\n",
        "  underlying['Underlying Cumulative Returns']=(1 + underlying['Underlying Daily Returns']).cumprod() - 1\n",
        "  underlying['Algo Cumulative Returns']=signals_df[\"Portfolio Cumulative Returns\"]\n",
        "\n",
        "  graph_df=underlying[[\"Underlying Cumulative Returns\", \"Algo Cumulative Returns\"]]\n",
        "\n",
        "  return graph_df"
      ]
    },
    {
      "cell_type": "code",
      "execution_count": null,
      "metadata": {
        "id": "Bav039ROToI-"
      },
      "outputs": [],
      "source": [
        "# Generate Cumulative Return plot using above defined function:\n",
        "underlying_returns(signals_df).plot(figsize=(20,10))"
      ]
    },
    {
      "cell_type": "markdown",
      "metadata": {
        "id": "Aw_L8fvqwmTZ"
      },
      "source": [
        "# DIS:"
      ]
    },
    {
      "cell_type": "code",
      "execution_count": null,
      "metadata": {
        "id": "IjjhDYWtw8Ox"
      },
      "outputs": [],
      "source": [
        "# Use pre-defined function to read in $DIS data:\n",
        "ticker=\"DIS\"\n",
        "stock=choose_stock(ticker)\n",
        "stock.head()"
      ]
    },
    {
      "cell_type": "markdown",
      "metadata": {
        "id": "Nm6uwUNYw8Oy"
      },
      "source": []
    },
    {
      "cell_type": "code",
      "execution_count": null,
      "metadata": {
        "id": "MYcPpuX2w8Oy"
      },
      "outputs": [],
      "source": [
        "# Concatenate Fama-French DataFrame with Stock DataFrame:\n",
        "combined_df = pd.concat([factors, stock], axis='columns', join='inner')\n",
        "\n",
        "# Drop nulls:\n",
        "combined_df = combined_df.dropna()\n",
        "combined_df = combined_df.drop('RF', axis=1)\n",
        "\n",
        "# Preview DataFrame\n",
        "combined_df.head()"
      ]
    },
    {
      "cell_type": "code",
      "execution_count": null,
      "metadata": {
        "id": "qXOPoYgCw8Oy"
      },
      "outputs": [],
      "source": [
        "# Define X and y variables:\n",
        "X = combined_df.drop('Returns', axis=1)\n",
        "X = X.drop('Close',axis=1)\n",
        "y = combined_df.loc[:, 'Returns']"
      ]
    },
    {
      "cell_type": "code",
      "execution_count": null,
      "metadata": {
        "id": "lXvBANjuw8Oz"
      },
      "outputs": [],
      "source": [
        "# Split into Training/Testing Data:\n",
        "split = int(0.8 * len(X))\n",
        "X_train = X[: split]\n",
        "X_test = X[split:]\n",
        "y_train = y[: split]\n",
        "y_test = y[split:]\n",
        "close_test=combined_df[\"Close\"][split:]\n",
        "close_test"
      ]
    },
    {
      "cell_type": "code",
      "execution_count": null,
      "metadata": {
        "id": "_cX5kfYHw8Oz"
      },
      "outputs": [],
      "source": [
        "# Import Linear Regression Model from SKLearn:\n",
        "from sklearn.linear_model import LinearRegression\n",
        "\n",
        "# Create, train, and predict model:\n",
        "lin_reg_model = LinearRegression(fit_intercept=True)\n",
        "lin_reg_model = lin_reg_model.fit(X_train, y_train)\n",
        "predictions = lin_reg_model.predict(X_test)"
      ]
    },
    {
      "cell_type": "code",
      "execution_count": null,
      "metadata": {
        "id": "YUpfta1pw8Oz"
      },
      "outputs": [],
      "source": [
        "# Convert y_test to a dataframe:\n",
        "y_test = y_test.to_frame()"
      ]
    },
    {
      "cell_type": "code",
      "execution_count": null,
      "metadata": {
        "id": "ZIGdup0hw8Oz"
      },
      "outputs": [],
      "source": [
        "signals_df = y_test.copy()\n",
        "\n",
        "# Add \"predictions\" to dataframe:\n",
        "y_test['Predictions'] = predictions\n",
        "y_test[\"Close\"]=close_test\n",
        "\n",
        "# Add \"Buy Signal\" column based on whether day's predictions were greater than the day's actual returns:\n",
        "y_test['Buy Signal'] = np.where(y_test['Predictions'] > y_test['Returns'], 1.0,0.0)\n",
        "\n",
        "# Drop nulls:\n",
        "y_test=y_test.dropna()\n",
        "\n",
        "y_test.head()"
      ]
    },
    {
      "cell_type": "code",
      "execution_count": null,
      "metadata": {
        "id": "8_ocTq2Ew8Oz"
      },
      "outputs": [],
      "source": [
        "# Generate signals Dataframe using generate signals function\n",
        "signals_df=generate_signals(y_test)"
      ]
    },
    {
      "cell_type": "code",
      "execution_count": null,
      "metadata": {
        "id": "hODHUhnlw8Oz"
      },
      "outputs": [],
      "source": [
        "# Generate Metrics table for Algorithm:\n",
        "algo_evaluation(signals_df)"
      ]
    },
    {
      "cell_type": "code",
      "execution_count": null,
      "metadata": {
        "id": "JTm0MyJqw8O0"
      },
      "outputs": [],
      "source": [
        "# Generate Metrics table for Algorithm vs. Buy-and-Hold Strategy:\n",
        "algo_vs_underlying(signals_df)"
      ]
    },
    {
      "cell_type": "code",
      "execution_count": null,
      "metadata": {
        "id": "UA0z0I3Ow8O0"
      },
      "outputs": [],
      "source": [
        "# Generate Metrics table for Disney using pre-defined function:\n",
        "trade_evaluation_df=trade_evaluation(signals_df)\n",
        "trade_evaluation_df"
      ]
    },
    {
      "cell_type": "code",
      "execution_count": null,
      "metadata": {
        "id": "Zf_Hm7PI7e9l"
      },
      "outputs": [],
      "source": [
        "# Set X and y variables:\n",
        "y = combined_df.loc[:, 'Returns']\n",
        "X = combined_df.drop('Returns', axis=1)\n",
        "X = X.drop('Close',axis=1)\n",
        "\n",
        "# Add \"Constant\" column of \"1s\" to DataFrame to act as an intercept, using StatsModels:\n",
        "X = sm.add_constant(X)\n",
        "\n",
        "# Split into Training/Testing data:\n",
        "split = int(0.8 * len(X))\n",
        "X_train = X[: split]\n",
        "X_test = X[split:]\n",
        "y_train = y[: split]\n",
        "y_test = y[split:]\n",
        "\n",
        "# Run Ordinary Least Squares (OLS )Model:\n",
        "model = sm.OLS(y_test, X_test)\n",
        "model_results = model.fit()\n",
        "print(model_results.summary())"
      ]
    },
    {
      "cell_type": "code",
      "execution_count": null,
      "metadata": {
        "id": "HC95HFCu7e9n"
      },
      "outputs": [],
      "source": [
        "# Plot Partial Regression Plot:\n",
        "fig = sm.graphics.plot_partregress_grid(model_results, fig = plt.figure(figsize=(12,8)))\n",
        "plt.show()"
      ]
    },
    {
      "cell_type": "code",
      "execution_count": null,
      "metadata": {
        "id": "1JCrx9B67e9o"
      },
      "outputs": [],
      "source": [
        "# Plot Cumulative Returns:\n",
        "underlying_returns(signals_df).plot(figsize=(20,10))"
      ]
    },
    {
      "cell_type": "markdown",
      "metadata": {
        "id": "PafiX6v97e9o"
      },
      "source": [
        "## SPY"
      ]
    },
    {
      "cell_type": "code",
      "execution_count": null,
      "metadata": {
        "id": "mIsNMJpf7_I0"
      },
      "outputs": [],
      "source": [
        "# Read in SPY data:\n",
        "ticker=\"SPY\"\n",
        "stock=choose_stock(ticker)\n",
        "stock.head()"
      ]
    },
    {
      "cell_type": "markdown",
      "metadata": {
        "id": "ReO77EoX7_I0"
      },
      "source": []
    },
    {
      "cell_type": "code",
      "execution_count": null,
      "metadata": {
        "id": "NMUwPjnP7_I0"
      },
      "outputs": [],
      "source": [
        "# Concatenate Fama-French DataFrame with Stock DataFrame:\n",
        "combined_df = pd.concat([factors, stock], axis='columns', join='inner')\n",
        "\n",
        "# Drop nulls:\n",
        "combined_df = combined_df.dropna()\n",
        "combined_df = combined_df.drop('RF', axis=1)\n",
        "\n",
        "# Preview DataFrame\n",
        "combined_df.head()"
      ]
    },
    {
      "cell_type": "code",
      "execution_count": null,
      "metadata": {
        "id": "A6SfApsn7_I0"
      },
      "outputs": [],
      "source": [
        "# Define X and y variables:\n",
        "X = combined_df.drop('Returns', axis=1)\n",
        "X = X.drop('Close',axis=1)\n",
        "y = combined_df.loc[:, 'Returns']"
      ]
    },
    {
      "cell_type": "code",
      "execution_count": null,
      "metadata": {
        "id": "Xb8H_8RD7_I0"
      },
      "outputs": [],
      "source": [
        "# Split into Training/Testing Data:\n",
        "split = int(0.8 * len(X))\n",
        "X_train = X[: split]\n",
        "X_test = X[split:]\n",
        "y_train = y[: split]\n",
        "y_test = y[split:]\n",
        "close_test=combined_df[\"Close\"][split:]\n",
        "close_test"
      ]
    },
    {
      "cell_type": "code",
      "execution_count": null,
      "metadata": {
        "id": "Z6d_x-8g7_I1"
      },
      "outputs": [],
      "source": [
        "# Import Linear Regression Model from SKLearn:\n",
        "from sklearn.linear_model import LinearRegression\n",
        "\n",
        "# Create, train, and predict model:\n",
        "lin_reg_model = LinearRegression(fit_intercept=True)\n",
        "lin_reg_model = lin_reg_model.fit(X_train, y_train)\n",
        "predictions = lin_reg_model.predict(X_test)"
      ]
    },
    {
      "cell_type": "code",
      "execution_count": null,
      "metadata": {
        "id": "XavLABnj7_I1"
      },
      "outputs": [],
      "source": [
        "# Convert y_test to a dataframe:\n",
        "y_test = y_test.to_frame()"
      ]
    },
    {
      "cell_type": "code",
      "execution_count": null,
      "metadata": {
        "id": "Tw5tsK4v7_I1"
      },
      "outputs": [],
      "source": [
        "signals_df = y_test.copy()\n",
        "\n",
        "# Add \"predictions\" to dataframe:\n",
        "y_test['Predictions'] = predictions\n",
        "y_test[\"Close\"]=close_test\n",
        "\n",
        "# Add \"Buy Signal\" column based on whether day's predictions were greater than the day's actual returns:\n",
        "y_test['Buy Signal'] = np.where(y_test['Predictions'] > y_test['Returns'], 1.0,0.0)\n",
        "\n",
        "# Drop nulls:\n",
        "y_test=y_test.dropna()\n",
        "\n",
        "y_test.head()"
      ]
    },
    {
      "cell_type": "code",
      "execution_count": null,
      "metadata": {
        "id": "u-dR7kkm7_I1"
      },
      "outputs": [],
      "source": [
        "# Generate signals Dataframe using generate signals function\n",
        "signals_df=generate_signals(y_test)"
      ]
    },
    {
      "cell_type": "code",
      "execution_count": null,
      "metadata": {
        "id": "Ab9bCTo67_I1"
      },
      "outputs": [],
      "source": [
        "# Generate Metrics for Algorithm:\n",
        "algo_evaluation(signals_df)"
      ]
    },
    {
      "cell_type": "code",
      "execution_count": null,
      "metadata": {
        "id": "b5cGvs7p7_I1"
      },
      "outputs": [],
      "source": [
        "# Generate Metrics for Algorithm vs Buy-and-Hold Strategy:\n",
        "algo_vs_underlying(signals_df)"
      ]
    },
    {
      "cell_type": "code",
      "execution_count": null,
      "metadata": {
        "id": "iaHcvW3S7_I1"
      },
      "outputs": [],
      "source": [
        "# Generate and view Metrics dataframe:\n",
        "trade_evaluation_df=trade_evaluation(signals_df)\n",
        "trade_evaluation_df"
      ]
    },
    {
      "cell_type": "code",
      "execution_count": null,
      "metadata": {
        "id": "CM7YcXoT7_I1"
      },
      "outputs": [],
      "source": [
        "# Set X and y variables:\n",
        "y = combined_df.loc[:, 'Returns']\n",
        "X = combined_df.drop('Returns', axis=1)\n",
        "X = X.drop('Close',axis=1)\n",
        "\n",
        "# Add \"Constant\" column of \"1s\" to DataFrame to act as an intercept, using StatsModels:\n",
        "X = sm.add_constant(X)\n",
        "\n",
        "# Split into Training/Testing data:\n",
        "split = int(0.8 * len(X))\n",
        "X_train = X[: split]\n",
        "X_test = X[split:]\n",
        "y_train = y[: split]\n",
        "y_test = y[split:]\n",
        "\n",
        "# Run Ordinary Least Squares (OLS )Model:\n",
        "model = sm.OLS(y_test, X_test)\n",
        "model_results = model.fit()\n",
        "print(model_results.summary())"
      ]
    },
    {
      "cell_type": "code",
      "execution_count": null,
      "metadata": {
        "id": "3nb0TTtU7_I1"
      },
      "outputs": [],
      "source": [
        "# Plot Partial Regression Plot:\n",
        "fig = sm.graphics.plot_partregress_grid(model_results, fig = plt.figure(figsize=(12,8)))\n",
        "plt.show()"
      ]
    },
    {
      "cell_type": "code",
      "execution_count": null,
      "metadata": {
        "id": "YUvjf82D7_I2"
      },
      "outputs": [],
      "source": [
        "# Plot Cumulative Returns:\n",
        "underlying_returns(signals_df).plot(figsize=(20,10))"
      ]
    },
    {
      "cell_type": "markdown",
      "metadata": {
        "id": "FcpASISzsoFH"
      },
      "source": [
        "# Fama-French Five Factor Model:  \n",
        "# ATT\n"
      ]
    },
    {
      "cell_type": "code",
      "execution_count": null,
      "metadata": {
        "id": "C2j234Sf_vUh"
      },
      "outputs": [],
      "source": [
        "# Confirm New Fama-French 5-Factor DataFrame:\n",
        "factors = get_factors(\"french_fama_5\")\n",
        "factors.head()"
      ]
    },
    {
      "cell_type": "code",
      "execution_count": null,
      "metadata": {
        "id": "Lh5tGDZb_hQT"
      },
      "outputs": [],
      "source": [
        "# Read-in ATT dataframe:\n",
        "ticker=\"T\"\n",
        "stock=choose_stock(ticker)\n",
        "stock.head()"
      ]
    },
    {
      "cell_type": "markdown",
      "metadata": {
        "id": "EutzvX-J_hQT"
      },
      "source": []
    },
    {
      "cell_type": "code",
      "execution_count": null,
      "metadata": {
        "id": "RDiwxmSz_hQU"
      },
      "outputs": [],
      "source": [
        "# Concatenate Fama-French DataFrame with Stock DataFrame:\n",
        "combined_df = pd.concat([factors, stock], axis='columns', join='inner')\n",
        "\n",
        "# Drop nulls:\n",
        "combined_df = combined_df.dropna()\n",
        "combined_df = combined_df.drop('RF', axis=1)\n",
        "\n",
        "# Preview DataFrame\n",
        "combined_df.head()"
      ]
    },
    {
      "cell_type": "code",
      "execution_count": null,
      "metadata": {
        "id": "JySbiDE4_hQU"
      },
      "outputs": [],
      "source": [
        "# Define X and y variables:\n",
        "X = combined_df.drop('Returns', axis=1)\n",
        "X = X.drop('Close',axis=1)\n",
        "y = combined_df.loc[:, 'Returns']"
      ]
    },
    {
      "cell_type": "code",
      "execution_count": null,
      "metadata": {
        "id": "wSb7-llP_hQU"
      },
      "outputs": [],
      "source": [
        "# Split into Training/Testing Data:\n",
        "split = int(0.8 * len(X))\n",
        "X_train = X[: split]\n",
        "X_test = X[split:]\n",
        "y_train = y[: split]\n",
        "y_test = y[split:]\n",
        "close_test=combined_df[\"Close\"][split:]\n",
        "close_test"
      ]
    },
    {
      "cell_type": "code",
      "execution_count": null,
      "metadata": {
        "id": "C8NYR_iD_hQU"
      },
      "outputs": [],
      "source": [
        "# Import Linear Regression Model from SKLearn:\n",
        "from sklearn.linear_model import LinearRegression\n",
        "\n",
        "# Create, train, and predict model:\n",
        "lin_reg_model = LinearRegression(fit_intercept=True)\n",
        "lin_reg_model = lin_reg_model.fit(X_train, y_train)\n",
        "predictions = lin_reg_model.predict(X_test)"
      ]
    },
    {
      "cell_type": "code",
      "execution_count": null,
      "metadata": {
        "id": "6_DLCuxA_hQU"
      },
      "outputs": [],
      "source": [
        "# Convert y_test to a dataframe:\n",
        "y_test = y_test.to_frame()"
      ]
    },
    {
      "cell_type": "code",
      "execution_count": null,
      "metadata": {
        "id": "yqvQ2jsu_hQU"
      },
      "outputs": [],
      "source": [
        "signals_df = y_test.copy()\n",
        "\n",
        "# Add \"predictions\" to dataframe:\n",
        "y_test['Predictions'] = predictions\n",
        "y_test[\"Close\"]=close_test\n",
        "\n",
        "# Add \"Buy Signal\" column based on whether day's predictions were greater than the day's actual returns:\n",
        "y_test['Buy Signal'] = np.where(y_test['Predictions'] > y_test['Returns'], 1.0,0.0)\n",
        "\n",
        "# Drop nulls:\n",
        "y_test=y_test.dropna()\n",
        "\n",
        "y_test.head()"
      ]
    },
    {
      "cell_type": "code",
      "execution_count": null,
      "metadata": {
        "id": "kXgb1N_Q_hQU"
      },
      "outputs": [],
      "source": [
        "# Generate signals Dataframe using generate signals function\n",
        "signals_df=generate_signals(y_test)"
      ]
    },
    {
      "cell_type": "code",
      "execution_count": null,
      "metadata": {
        "id": "yEchQ3GM_hQU"
      },
      "outputs": [],
      "source": [
        "# Generate Metrics for Algorithm:\n",
        "algo_evaluation(signals_df)"
      ]
    },
    {
      "cell_type": "code",
      "execution_count": null,
      "metadata": {
        "id": "U3M6qkPC_hQV"
      },
      "outputs": [],
      "source": [
        "# Generate Metrics for Algorithm vs. Buy-and-Hold Strategy:\n",
        "algo_vs_underlying(signals_df)"
      ]
    },
    {
      "cell_type": "code",
      "execution_count": null,
      "metadata": {
        "id": "ZC7IRoUt_hQV"
      },
      "outputs": [],
      "source": [
        "# Generate and view metrics dataframe:\n",
        "trade_evaluation_df=trade_evaluation(signals_df)\n",
        "trade_evaluation_df"
      ]
    },
    {
      "cell_type": "code",
      "execution_count": null,
      "metadata": {
        "id": "jIK7c-yt_hQV"
      },
      "outputs": [],
      "source": [
        "# Set X and y variables:\n",
        "y = combined_df.loc[:, 'Returns']\n",
        "X = combined_df.drop('Returns', axis=1)\n",
        "X = X.drop('Close',axis=1)\n",
        "\n",
        "# Add \"Constant\" column of \"1s\" to DataFrame to act as an intercept, using StatsModels:\n",
        "X = sm.add_constant(X)\n",
        "\n",
        "# Split into Training/Testing data:\n",
        "split = int(0.8 * len(X))\n",
        "X_train = X[: split]\n",
        "X_test = X[split:]\n",
        "y_train = y[: split]\n",
        "y_test = y[split:]\n",
        "\n",
        "# Run Ordinary Least Squares (OLS )Model:\n",
        "model = sm.OLS(y_test, X_test)\n",
        "model_results = model.fit()\n",
        "print(model_results.summary())"
      ]
    },
    {
      "cell_type": "code",
      "execution_count": null,
      "metadata": {
        "id": "8c3_CxOE_hQV"
      },
      "outputs": [],
      "source": [
        "# Plot Partial Regression Plot:\n",
        "fig = sm.graphics.plot_partregress_grid(model_results, fig = plt.figure(figsize=(12,8)))\n",
        "plt.show()"
      ]
    },
    {
      "cell_type": "code",
      "execution_count": null,
      "metadata": {
        "id": "Kuchc98I_hQV"
      },
      "outputs": [],
      "source": [
        "underlying_returns(signals_df).plot(figsize=(20,10))"
      ]
    },
    {
      "cell_type": "markdown",
      "metadata": {
        "id": "LiC8SVmoAT5W"
      },
      "source": [
        "## DIS\n"
      ]
    },
    {
      "cell_type": "code",
      "execution_count": null,
      "metadata": {
        "id": "l7tjqCwBAT5X"
      },
      "outputs": [],
      "source": [
        "# Read-in Disney dataframe:\n",
        "ticker=\"DIS\"\n",
        "stock=choose_stock(ticker)\n",
        "stock.head()"
      ]
    },
    {
      "cell_type": "markdown",
      "metadata": {
        "id": "RWlDofHMAT5X"
      },
      "source": []
    },
    {
      "cell_type": "code",
      "execution_count": null,
      "metadata": {
        "id": "9s2w63obAT5X"
      },
      "outputs": [],
      "source": [
        "# Concatenate Fama-French DataFrame with Stock DataFrame:\n",
        "combined_df = pd.concat([factors, stock], axis='columns', join='inner')\n",
        "\n",
        "# Drop nulls:\n",
        "combined_df = combined_df.dropna()\n",
        "combined_df = combined_df.drop('RF', axis=1)\n",
        "\n",
        "# Preview DataFrame\n",
        "combined_df.head()"
      ]
    },
    {
      "cell_type": "code",
      "execution_count": null,
      "metadata": {
        "id": "1YFc_UA7AT5X"
      },
      "outputs": [],
      "source": [
        "# Define X and y variables:\n",
        "X = combined_df.drop('Returns', axis=1)\n",
        "X = X.drop('Close',axis=1)\n",
        "y = combined_df.loc[:, 'Returns']"
      ]
    },
    {
      "cell_type": "code",
      "execution_count": null,
      "metadata": {
        "id": "Aw4BH9RHAT5X"
      },
      "outputs": [],
      "source": [
        "# Split into Training/Testing Data:\n",
        "split = int(0.8 * len(X))\n",
        "X_train = X[: split]\n",
        "X_test = X[split:]\n",
        "y_train = y[: split]\n",
        "y_test = y[split:]\n",
        "close_test=combined_df[\"Close\"][split:]\n",
        "close_test"
      ]
    },
    {
      "cell_type": "code",
      "execution_count": null,
      "metadata": {
        "id": "kB742xetAT5X"
      },
      "outputs": [],
      "source": [
        "# Import Linear Regression Model from SKLearn:\n",
        "from sklearn.linear_model import LinearRegression\n",
        "\n",
        "# Create, train, and predict model:\n",
        "lin_reg_model = LinearRegression(fit_intercept=True)\n",
        "lin_reg_model = lin_reg_model.fit(X_train, y_train)\n",
        "predictions = lin_reg_model.predict(X_test)"
      ]
    },
    {
      "cell_type": "code",
      "execution_count": null,
      "metadata": {
        "id": "tgWRP1iTAT5X"
      },
      "outputs": [],
      "source": [
        "# Convert y_test to a dataframe:\n",
        "y_test = y_test.to_frame()"
      ]
    },
    {
      "cell_type": "code",
      "execution_count": null,
      "metadata": {
        "id": "vgOkeCyKAT5Y"
      },
      "outputs": [],
      "source": [
        "signals_df = y_test.copy()\n",
        "\n",
        "# Add \"predictions\" to dataframe:\n",
        "y_test['Predictions'] = predictions\n",
        "y_test[\"Close\"]=close_test\n",
        "\n",
        "# Add \"Buy Signal\" column based on whether day's predictions were greater than the day's actual returns:\n",
        "y_test['Buy Signal'] = np.where(y_test['Predictions'] > y_test['Returns'], 1.0,0.0)\n",
        "\n",
        "# Drop nulls:\n",
        "y_test=y_test.dropna()\n",
        "\n",
        "y_test.head()"
      ]
    },
    {
      "cell_type": "code",
      "execution_count": null,
      "metadata": {
        "id": "luaOa04mAT5Y"
      },
      "outputs": [],
      "source": [
        "# Generate signals Dataframe using generate signals function\n",
        "signals_df=generate_signals(y_test)"
      ]
    },
    {
      "cell_type": "code",
      "execution_count": null,
      "metadata": {
        "id": "5irpX29FAT5Y"
      },
      "outputs": [],
      "source": [
        "# Generate Metrics for Algorithm:\n",
        "algo_evaluation(signals_df)"
      ]
    },
    {
      "cell_type": "code",
      "execution_count": null,
      "metadata": {
        "id": "aYZRSOEqAT5Y"
      },
      "outputs": [],
      "source": [
        "# Generate Metrics for Algorithm vs. Buy-and-Hold Strategy:\n",
        "algo_vs_underlying(signals_df)"
      ]
    },
    {
      "cell_type": "code",
      "execution_count": null,
      "metadata": {
        "id": "8TW82RfwAT5Y"
      },
      "outputs": [],
      "source": [
        "# Generate and view Metrics dataframe:\n",
        "trade_evaluation_df=trade_evaluation(signals_df)\n",
        "trade_evaluation_df"
      ]
    },
    {
      "cell_type": "code",
      "execution_count": null,
      "metadata": {
        "id": "ttwP82D7AT5Y"
      },
      "outputs": [],
      "source": [
        "# Set X and y variables:\n",
        "y = combined_df.loc[:, 'Returns']\n",
        "X = combined_df.drop('Returns', axis=1)\n",
        "X = X.drop('Close',axis=1)\n",
        "\n",
        "# Add \"Constant\" column of \"1s\" to DataFrame to act as an intercept, using StatsModels:\n",
        "X = sm.add_constant(X)\n",
        "\n",
        "# Split into Training/Testing data:\n",
        "split = int(0.8 * len(X))\n",
        "X_train = X[: split]\n",
        "X_test = X[split:]\n",
        "y_train = y[: split]\n",
        "y_test = y[split:]\n",
        "\n",
        "# Run Ordinary Least Squares (OLS )Model:\n",
        "model = sm.OLS(y_test, X_test)\n",
        "model_results = model.fit()\n",
        "print(model_results.summary())"
      ]
    },
    {
      "cell_type": "code",
      "execution_count": null,
      "metadata": {
        "id": "mSnMainAAT5Y"
      },
      "outputs": [],
      "source": [
        "# Plot Partial Regression Plot:\n",
        "fig = sm.graphics.plot_partregress_grid(model_results, fig = plt.figure(figsize=(12,8)))\n",
        "plt.show()"
      ]
    },
    {
      "cell_type": "code",
      "execution_count": null,
      "metadata": {
        "id": "d9FMjZVAAT5Y"
      },
      "outputs": [],
      "source": [
        "# Plot Cumulative Returns:\n",
        "underlying_returns(signals_df).plot(figsize=(20,10))"
      ]
    },
    {
      "cell_type": "markdown",
      "metadata": {
        "id": "fOfOR6HuAi_J"
      },
      "source": [
        "## SPY\n"
      ]
    },
    {
      "cell_type": "code",
      "execution_count": null,
      "metadata": {
        "id": "emutaVy7Ai_J"
      },
      "outputs": [],
      "source": [
        "# Read-in SPY dataframe:\n",
        "ticker=\"SPY\"\n",
        "stock=choose_stock(ticker)\n",
        "stock.head()"
      ]
    },
    {
      "cell_type": "markdown",
      "metadata": {
        "id": "TK6LCCJJAi_J"
      },
      "source": []
    },
    {
      "cell_type": "code",
      "execution_count": null,
      "metadata": {
        "id": "WYdL9rrvAi_K"
      },
      "outputs": [],
      "source": [
        "# Concatenate Fama-French DataFrame with Stock DataFrame:\n",
        "combined_df = pd.concat([factors, stock], axis='columns', join='inner')\n",
        "\n",
        "# Drop nulls:\n",
        "combined_df = combined_df.dropna()\n",
        "combined_df = combined_df.drop('RF', axis=1)\n",
        "\n",
        "# Preview DataFrame\n",
        "combined_df.head()"
      ]
    },
    {
      "cell_type": "code",
      "execution_count": null,
      "metadata": {
        "id": "fYUy3O3VAi_K"
      },
      "outputs": [],
      "source": [
        "# Define X and y variables:\n",
        "X = combined_df.drop('Returns', axis=1)\n",
        "X = X.drop('Close',axis=1)\n",
        "y = combined_df.loc[:, 'Returns']"
      ]
    },
    {
      "cell_type": "code",
      "execution_count": null,
      "metadata": {
        "id": "2dS_eEmUAi_K"
      },
      "outputs": [],
      "source": [
        "# Split into Training/Testing Data:\n",
        "split = int(0.8 * len(X))\n",
        "X_train = X[: split]\n",
        "X_test = X[split:]\n",
        "y_train = y[: split]\n",
        "y_test = y[split:]\n",
        "close_test=combined_df[\"Close\"][split:]\n",
        "close_test"
      ]
    },
    {
      "cell_type": "code",
      "execution_count": null,
      "metadata": {
        "id": "_gwDaLVfAi_K"
      },
      "outputs": [],
      "source": [
        "# Import Linear Regression Model from SKLearn:\n",
        "from sklearn.linear_model import LinearRegression\n",
        "\n",
        "# Create, train, and predict model:\n",
        "lin_reg_model = LinearRegression(fit_intercept=True)\n",
        "lin_reg_model = lin_reg_model.fit(X_train, y_train)\n",
        "predictions = lin_reg_model.predict(X_test)"
      ]
    },
    {
      "cell_type": "code",
      "execution_count": null,
      "metadata": {
        "id": "rQ47ZjiYAi_K"
      },
      "outputs": [],
      "source": [
        "# Convert y_test to a dataframe:\n",
        "y_test = y_test.to_frame()"
      ]
    },
    {
      "cell_type": "code",
      "execution_count": null,
      "metadata": {
        "id": "OPNRSOIRAi_L"
      },
      "outputs": [],
      "source": [
        "signals_df = y_test.copy()\n",
        "\n",
        "# Add \"predictions\" to dataframe:\n",
        "y_test['Predictions'] = predictions\n",
        "y_test[\"Close\"]=close_test\n",
        "\n",
        "# Add \"Buy Signal\" column based on whether day's predictions were greater than the day's actual returns:\n",
        "y_test['Buy Signal'] = np.where(y_test['Predictions'] > y_test['Returns'], 1.0,0.0)\n",
        "\n",
        "# Drop nulls:\n",
        "y_test=y_test.dropna()\n",
        "\n",
        "y_test.head()"
      ]
    },
    {
      "cell_type": "code",
      "execution_count": null,
      "metadata": {
        "id": "-MjF-KyeAi_L"
      },
      "outputs": [],
      "source": [
        "# Generate signals Dataframe using generate signals function\n",
        "signals_df=generate_signals(y_test)"
      ]
    },
    {
      "cell_type": "code",
      "execution_count": null,
      "metadata": {
        "id": "h1IO_t2ZAi_L"
      },
      "outputs": [],
      "source": [
        "# Generate Metrics for Algorithm:\n",
        "algo_evaluation(signals_df)"
      ]
    },
    {
      "cell_type": "code",
      "execution_count": null,
      "metadata": {
        "id": "kON8jJsxAi_L"
      },
      "outputs": [],
      "source": [
        "# Generate Metrics for Algorithm vs Buy-and-Hold Strategy:\n",
        "algo_vs_underlying(signals_df)"
      ]
    },
    {
      "cell_type": "code",
      "execution_count": null,
      "metadata": {
        "id": "NHNNIh-HAi_L"
      },
      "outputs": [],
      "source": [
        "# Generate Metrics dataframe:\n",
        "trade_evaluation_df=trade_evaluation(signals_df)\n",
        "trade_evaluation_df"
      ]
    },
    {
      "cell_type": "code",
      "execution_count": null,
      "metadata": {
        "id": "JwcWbMZsAi_L"
      },
      "outputs": [],
      "source": [
        "# Set X and y variables:\n",
        "y = combined_df.loc[:, 'Returns']\n",
        "X = combined_df.drop('Returns', axis=1)\n",
        "X = X.drop('Close',axis=1)\n",
        "\n",
        "# Add \"Constant\" column of \"1s\" to DataFrame to act as an intercept, using StatsModels:\n",
        "X = sm.add_constant(X)\n",
        "\n",
        "# Split into Training/Testing data:\n",
        "split = int(0.8 * len(X))\n",
        "X_train = X[: split]\n",
        "X_test = X[split:]\n",
        "y_train = y[: split]\n",
        "y_test = y[split:]\n",
        "\n",
        "# Run Ordinary Least Squares (OLS )Model:\n",
        "model = sm.OLS(y_test, X_test)\n",
        "model_results = model.fit()\n",
        "print(model_results.summary())"
      ]
    },
    {
      "cell_type": "code",
      "execution_count": null,
      "metadata": {
        "id": "DHrL-HMkAi_L"
      },
      "outputs": [],
      "source": [
        "# Plot Partial Regression Plot:\n",
        "fig = sm.graphics.plot_partregress_grid(model_results, fig = plt.figure(figsize=(12,8)))\n",
        "plt.show()"
      ]
    },
    {
      "cell_type": "code",
      "execution_count": null,
      "metadata": {
        "id": "xeffhsxPAi_L"
      },
      "outputs": [],
      "source": [
        "# Plot Cumulative Returns:\n",
        "underlying_returns(signals_df).plot(figsize=(20,10))"
      ]
    }
  ],
  "metadata": {
    "colab": {
      "provenance": [],
      "include_colab_link": true
    },
    "kernelspec": {
      "display_name": "Python [conda env:machlearn]",
      "language": "python",
      "name": "conda-env-machlearn-py"
    },
    "language_info": {
      "codemirror_mode": {
        "name": "ipython",
        "version": 3
      },
      "file_extension": ".py",
      "mimetype": "text/x-python",
      "name": "python",
      "nbconvert_exporter": "python",
      "pygments_lexer": "ipython3",
      "version": "3.7.7"
    }
  },
  "nbformat": 4,
  "nbformat_minor": 0
}